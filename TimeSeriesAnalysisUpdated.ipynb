{
  "nbformat": 4,
  "nbformat_minor": 0,
  "metadata": {
    "colab": {
      "name": "Untitled1.ipynb",
      "version": "0.3.2",
      "provenance": [],
      "include_colab_link": true
    },
    "kernelspec": {
      "name": "python3",
      "display_name": "Python 3"
    }
  },
  "cells": [
    {
      "cell_type": "markdown",
      "metadata": {
        "id": "view-in-github",
        "colab_type": "text"
      },
      "source": [
        "<a href=\"https://colab.research.google.com/github/fsrt16/TimeSeriesAnalysis/blob/master/TimeSeriesAnalysisUpdated.ipynb\" target=\"_parent\"><img src=\"https://colab.research.google.com/assets/colab-badge.svg\" alt=\"Open In Colab\"/></a>"
      ]
    },
    {
      "cell_type": "code",
      "metadata": {
        "id": "ttWCi88FJjS7",
        "colab_type": "code",
        "colab": {}
      },
      "source": [
        "import numpy as np\n",
        "import pandas as pd\n",
        "import matplotlib.pyplot as plt\n",
        "import seaborn as sns"
      ],
      "execution_count": 0,
      "outputs": []
    },
    {
      "cell_type": "code",
      "metadata": {
        "id": "92v0OJfDJosh",
        "colab_type": "code",
        "colab": {
          "base_uri": "https://localhost:8080/",
          "height": 195
        },
        "outputId": "10084d49-ab13-4814-ae3e-41692efa9c63"
      },
      "source": [
        "df = pd.read_csv('train.csv')\n"
      ],
      "execution_count": 2,
      "outputs": [
        {
          "output_type": "execute_result",
          "data": {
            "text/html": [
              "<div>\n",
              "<style scoped>\n",
              "    .dataframe tbody tr th:only-of-type {\n",
              "        vertical-align: middle;\n",
              "    }\n",
              "\n",
              "    .dataframe tbody tr th {\n",
              "        vertical-align: top;\n",
              "    }\n",
              "\n",
              "    .dataframe thead th {\n",
              "        text-align: right;\n",
              "    }\n",
              "</style>\n",
              "<table border=\"1\" class=\"dataframe\">\n",
              "  <thead>\n",
              "    <tr style=\"text-align: right;\">\n",
              "      <th></th>\n",
              "      <th>ID</th>\n",
              "      <th>Datetime</th>\n",
              "      <th>Count</th>\n",
              "    </tr>\n",
              "  </thead>\n",
              "  <tbody>\n",
              "    <tr>\n",
              "      <th>0</th>\n",
              "      <td>0</td>\n",
              "      <td>25-08-2012 00:00</td>\n",
              "      <td>8</td>\n",
              "    </tr>\n",
              "    <tr>\n",
              "      <th>1</th>\n",
              "      <td>1</td>\n",
              "      <td>25-08-2012 01:00</td>\n",
              "      <td>2</td>\n",
              "    </tr>\n",
              "    <tr>\n",
              "      <th>2</th>\n",
              "      <td>2</td>\n",
              "      <td>25-08-2012 02:00</td>\n",
              "      <td>6</td>\n",
              "    </tr>\n",
              "    <tr>\n",
              "      <th>3</th>\n",
              "      <td>3</td>\n",
              "      <td>25-08-2012 03:00</td>\n",
              "      <td>2</td>\n",
              "    </tr>\n",
              "    <tr>\n",
              "      <th>4</th>\n",
              "      <td>4</td>\n",
              "      <td>25-08-2012 04:00</td>\n",
              "      <td>2</td>\n",
              "    </tr>\n",
              "  </tbody>\n",
              "</table>\n",
              "</div>"
            ],
            "text/plain": [
              "   ID          Datetime  Count\n",
              "0   0  25-08-2012 00:00      8\n",
              "1   1  25-08-2012 01:00      2\n",
              "2   2  25-08-2012 02:00      6\n",
              "3   3  25-08-2012 03:00      2\n",
              "4   4  25-08-2012 04:00      2"
            ]
          },
          "metadata": {
            "tags": []
          },
          "execution_count": 2
        }
      ]
    },
    {
      "cell_type": "code",
      "metadata": {
        "id": "GHXlaJ75Jou3",
        "colab_type": "code",
        "colab": {}
      },
      "source": [
        "dftest = pd.read_csv('test.csv')\n"
      ],
      "execution_count": 0,
      "outputs": []
    },
    {
      "cell_type": "code",
      "metadata": {
        "id": "1fgsic4AJowk",
        "colab_type": "code",
        "colab": {}
      },
      "source": [
        "df=df.drop('ID',axis=1)"
      ],
      "execution_count": 0,
      "outputs": []
    },
    {
      "cell_type": "code",
      "metadata": {
        "id": "Fda2ZYvFJoza",
        "colab_type": "code",
        "colab": {
          "base_uri": "https://localhost:8080/",
          "height": 195
        },
        "outputId": "3591edbb-7982-4c33-8c35-50cb2be5563f"
      },
      "source": [
        "df.head(5)"
      ],
      "execution_count": 172,
      "outputs": [
        {
          "output_type": "execute_result",
          "data": {
            "text/html": [
              "<div>\n",
              "<style scoped>\n",
              "    .dataframe tbody tr th:only-of-type {\n",
              "        vertical-align: middle;\n",
              "    }\n",
              "\n",
              "    .dataframe tbody tr th {\n",
              "        vertical-align: top;\n",
              "    }\n",
              "\n",
              "    .dataframe thead th {\n",
              "        text-align: right;\n",
              "    }\n",
              "</style>\n",
              "<table border=\"1\" class=\"dataframe\">\n",
              "  <thead>\n",
              "    <tr style=\"text-align: right;\">\n",
              "      <th></th>\n",
              "      <th>Count</th>\n",
              "      <th>Day</th>\n",
              "      <th>Month</th>\n",
              "      <th>Year</th>\n",
              "      <th>hour</th>\n",
              "      <th>minute</th>\n",
              "      <th>dayname</th>\n",
              "      <th>IsWeekDay</th>\n",
              "      <th>Isleap</th>\n",
              "      <th>max</th>\n",
              "      <th>min</th>\n",
              "      <th>avg</th>\n",
              "      <th>std</th>\n",
              "      <th>skew</th>\n",
              "      <th>kurtosis</th>\n",
              "      <th>variance</th>\n",
              "    </tr>\n",
              "  </thead>\n",
              "  <tbody>\n",
              "    <tr>\n",
              "      <th>0</th>\n",
              "      <td>8</td>\n",
              "      <td>25</td>\n",
              "      <td>08</td>\n",
              "      <td>2012</td>\n",
              "      <td>00</td>\n",
              "      <td>00</td>\n",
              "      <td>Saturday</td>\n",
              "      <td>0</td>\n",
              "      <td>1</td>\n",
              "      <td>8</td>\n",
              "      <td>8</td>\n",
              "      <td>-1.000000</td>\n",
              "      <td>-1.000000</td>\n",
              "      <td>-1.000000</td>\n",
              "      <td>0.952683</td>\n",
              "      <td>-1.000000</td>\n",
              "    </tr>\n",
              "    <tr>\n",
              "      <th>1</th>\n",
              "      <td>2</td>\n",
              "      <td>25</td>\n",
              "      <td>08</td>\n",
              "      <td>2012</td>\n",
              "      <td>01</td>\n",
              "      <td>00</td>\n",
              "      <td>Saturday</td>\n",
              "      <td>0</td>\n",
              "      <td>1</td>\n",
              "      <td>8</td>\n",
              "      <td>2</td>\n",
              "      <td>5.000000</td>\n",
              "      <td>4.242641</td>\n",
              "      <td>-1.000000</td>\n",
              "      <td>2.093841</td>\n",
              "      <td>18.000000</td>\n",
              "    </tr>\n",
              "    <tr>\n",
              "      <th>2</th>\n",
              "      <td>6</td>\n",
              "      <td>25</td>\n",
              "      <td>08</td>\n",
              "      <td>2012</td>\n",
              "      <td>02</td>\n",
              "      <td>00</td>\n",
              "      <td>Saturday</td>\n",
              "      <td>0</td>\n",
              "      <td>1</td>\n",
              "      <td>8</td>\n",
              "      <td>2</td>\n",
              "      <td>5.333333</td>\n",
              "      <td>3.055050</td>\n",
              "      <td>-0.935220</td>\n",
              "      <td>-1.372271</td>\n",
              "      <td>9.333333</td>\n",
              "    </tr>\n",
              "    <tr>\n",
              "      <th>3</th>\n",
              "      <td>2</td>\n",
              "      <td>25</td>\n",
              "      <td>08</td>\n",
              "      <td>2012</td>\n",
              "      <td>03</td>\n",
              "      <td>00</td>\n",
              "      <td>Saturday</td>\n",
              "      <td>0</td>\n",
              "      <td>1</td>\n",
              "      <td>8</td>\n",
              "      <td>2</td>\n",
              "      <td>4.500000</td>\n",
              "      <td>3.000000</td>\n",
              "      <td>0.370370</td>\n",
              "      <td>2.043166</td>\n",
              "      <td>9.000000</td>\n",
              "    </tr>\n",
              "    <tr>\n",
              "      <th>4</th>\n",
              "      <td>2</td>\n",
              "      <td>25</td>\n",
              "      <td>08</td>\n",
              "      <td>2012</td>\n",
              "      <td>04</td>\n",
              "      <td>00</td>\n",
              "      <td>Saturday</td>\n",
              "      <td>0</td>\n",
              "      <td>1</td>\n",
              "      <td>8</td>\n",
              "      <td>2</td>\n",
              "      <td>4.000000</td>\n",
              "      <td>2.828427</td>\n",
              "      <td>0.883883</td>\n",
              "      <td>2.213086</td>\n",
              "      <td>8.000000</td>\n",
              "    </tr>\n",
              "  </tbody>\n",
              "</table>\n",
              "</div>"
            ],
            "text/plain": [
              "   Count Day Month  Year hour minute   dayname  IsWeekDay  Isleap  max  min  \\\n",
              "0      8  25    08  2012   00     00  Saturday          0       1    8    8   \n",
              "1      2  25    08  2012   01     00  Saturday          0       1    8    2   \n",
              "2      6  25    08  2012   02     00  Saturday          0       1    8    2   \n",
              "3      2  25    08  2012   03     00  Saturday          0       1    8    2   \n",
              "4      2  25    08  2012   04     00  Saturday          0       1    8    2   \n",
              "\n",
              "        avg       std      skew  kurtosis   variance  \n",
              "0 -1.000000 -1.000000 -1.000000  0.952683  -1.000000  \n",
              "1  5.000000  4.242641 -1.000000  2.093841  18.000000  \n",
              "2  5.333333  3.055050 -0.935220 -1.372271   9.333333  \n",
              "3  4.500000  3.000000  0.370370  2.043166   9.000000  \n",
              "4  4.000000  2.828427  0.883883  2.213086   8.000000  "
            ]
          },
          "metadata": {
            "tags": []
          },
          "execution_count": 172
        }
      ]
    },
    {
      "cell_type": "code",
      "metadata": {
        "id": "7WpPFeVpJo1o",
        "colab_type": "code",
        "colab": {}
      },
      "source": [
        "Datetime=df['Datetime'].str.split(' ', n = 1, expand = True)\n",
        "df['time']=Datetime[1]\n",
        "Date = Datetime[0].str.split('-', n = 2, expand = True)\n",
        "df['Day']=Date[0]\n",
        "df['Month']=Date[1]\n",
        "df['Year']=Date[2]\n",
        "time=df['time'].str.split(':', n = 1, expand = True)\n",
        "df['hour']=time[0]\n",
        "df['minute']=time[1]\n",
        "df=df.drop('time',axis=1)\n",
        "df=df.drop('Datetime',axis=1)"
      ],
      "execution_count": 0,
      "outputs": []
    },
    {
      "cell_type": "code",
      "metadata": {
        "id": "FuZw6GLVJo4r",
        "colab_type": "code",
        "colab": {}
      },
      "source": [
        "import datetime \n",
        "import calendar \n",
        "def findDay(date):\n",
        "  born=[]\n",
        "  for i in range(0,len(date)):\n",
        "    born.append(calendar.day_name[datetime.datetime.strptime(date[i], '%d %m %Y').weekday()] )\n",
        "    \n",
        "  return (born)\n",
        "def weekday(date):\n",
        "  lt=[]\n",
        "  for i in range(0,len(date)):\n",
        "    \n",
        "    if date[i] in ['Monday','Tuesday','Thursday','Wednesday','Friday']:\n",
        "      lt.append(1)\n",
        "    else:\n",
        "      lt.append(0)\n",
        "  return lt\n",
        "def  leap(date):\n",
        "  import calendar\n",
        "  lt=[]\n",
        "  for i in range(0,len(date)):\n",
        "    if (calendar.isleap(int(date[i]))) :\n",
        "      lt.append(1)\n",
        "    else:\n",
        "      lt.append(0)\n",
        "  return lt"
      ],
      "execution_count": 0,
      "outputs": []
    },
    {
      "cell_type": "code",
      "metadata": {
        "id": "Brsqo3ozJo_t",
        "colab_type": "code",
        "colab": {}
      },
      "source": [
        "x = findDay((df['Day']+\" \"+df['Month']+\" \"+df['Year']))\n",
        "df['dayname']=x"
      ],
      "execution_count": 0,
      "outputs": []
    },
    {
      "cell_type": "code",
      "metadata": {
        "id": "w7HyZ1F2JpCH",
        "colab_type": "code",
        "colab": {}
      },
      "source": [
        "df['IsWeekDay'] = weekday(df['dayname'])"
      ],
      "execution_count": 0,
      "outputs": []
    },
    {
      "cell_type": "code",
      "metadata": {
        "id": "Z9ao18KfJpEf",
        "colab_type": "code",
        "colab": {}
      },
      "source": [
        "df['Isleap']=leap(df['Year'])"
      ],
      "execution_count": 0,
      "outputs": []
    },
    {
      "cell_type": "code",
      "metadata": {
        "id": "O9POBNV5JpKD",
        "colab_type": "code",
        "colab": {}
      },
      "source": [
        "def max(serie):\n",
        "  maxf = serie[0]\n",
        "  lmax=[]\n",
        "  for i in range(0,len(serie)):\n",
        "    if i == 0:\n",
        "      lmax.append(maxf)\n",
        "    else :\n",
        "      if maxf < serie[i]:\n",
        "        maxf = serie[i]\n",
        "      lmax.append(maxf)\n",
        "  return lmax\n",
        "def min(serie):\n",
        "  mixf = serie[0]\n",
        "  lmix=[]\n",
        "  for i in range(0,len(serie)):\n",
        "    if i == 0:\n",
        "      lmix.append(mixf)\n",
        "    else :\n",
        "      if mixf > serie[i]:\n",
        "        mixf = serie[i]\n",
        "      lmix.append(mixf)\n",
        "  return lmix\n",
        "def avg(serie):\n",
        "  avg = serie[0]\n",
        "  lavg=[]\n",
        "  for i in range(0,len(serie)):\n",
        "    if i == 0:\n",
        "      lavg.append(avg)\n",
        "    else :\n",
        "      avg = (avg*i  + serie[i])/(i+1)\n",
        "      lavg.append(avg)\n",
        "  return lavg\n",
        "def std(serie):\n",
        "  lavg=[]\n",
        "  for i in range(0,len(serie)):\n",
        "    "
      ],
      "execution_count": 0,
      "outputs": []
    },
    {
      "cell_type": "code",
      "metadata": {
        "id": "DOmpEwdUJpMT",
        "colab_type": "code",
        "colab": {}
      },
      "source": [
        "df['max'] = max(df['Count'])\n",
        "df['min'] = min(df['Count'])\n",
        "df['avg'] = df['Count'].expanding(min_periods=2).mean()"
      ],
      "execution_count": 0,
      "outputs": []
    },
    {
      "cell_type": "code",
      "metadata": {
        "id": "yQu2rcLXJpOo",
        "colab_type": "code",
        "colab": {}
      },
      "source": [
        "df['std']=df['Count'].expanding(min_periods=2).std()\n",
        "df['skew']=df['Count'].expanding(min_periods=2).skew()\n",
        "#df['kurtosis']=df['Count'].expanding(min_periods=2).kurtosis()\n",
        "df['variance']=df['Count'].expanding(min_periods=2).var()"
      ],
      "execution_count": 0,
      "outputs": []
    },
    {
      "cell_type": "code",
      "metadata": {
        "id": "OuWJNFVIJpHb",
        "colab_type": "code",
        "colab": {}
      },
      "source": [
        "df['std']=df['std'].replace(np.nan,-1)\n",
        "df['avg']=df['avg'].replace(np.nan,-1)\n",
        "df['skew']=df['skew'].replace(np.nan,-1)\n",
        "df['variance']=df['variance'].replace(np.nan,-1)"
      ],
      "execution_count": 0,
      "outputs": []
    },
    {
      "cell_type": "code",
      "metadata": {
        "id": "eQJZBv9YuYZw",
        "colab_type": "code",
        "colab": {}
      },
      "source": [
        "df['Day'] = (df['Day']).astype(int)\n",
        "df['Month'] = (df['Month']).astype(int)\n",
        "df['Year'] = (df['Year']).astype(int)\n",
        "df['hour'] = (df['hour']).astype(int)\n",
        "df['minute'] = (df['minute']).astype(int)"
      ],
      "execution_count": 0,
      "outputs": []
    },
    {
      "cell_type": "markdown",
      "metadata": {
        "id": "7QWP7gjGyq6R",
        "colab_type": "text"
      },
      "source": [
        "# Preparing Test Case"
      ]
    },
    {
      "cell_type": "code",
      "metadata": {
        "id": "y6apaN2duYhg",
        "colab_type": "code",
        "colab": {}
      },
      "source": [
        "dft = pd.read_csv('test.csv')\n",
        "dft.head()\n",
        "ID = dft.ID"
      ],
      "execution_count": 0,
      "outputs": []
    },
    {
      "cell_type": "code",
      "metadata": {
        "id": "njsX158ByuNJ",
        "colab_type": "code",
        "colab": {}
      },
      "source": [
        "def preprocess(df):\n",
        "  df=df.drop('ID',axis=1)\n",
        "  Datetime=df['Datetime'].str.split(' ', n = 1, expand = True)\n",
        "  df['time']=Datetime[1]\n",
        "  Date = Datetime[0].str.split('-', n = 2, expand = True)\n",
        "  df['Day']=Date[0]\n",
        "  df['Month']=Date[1]\n",
        "  df['Year']=Date[2]\n",
        "  time=df['time'].str.split(':', n = 1, expand = True)\n",
        "  df['hour']=time[0]\n",
        "  df['minute']=time[1]\n",
        "  df=df.drop('time',axis=1)\n",
        "  df=df.drop('Datetime',axis=1)\n",
        "  x = findDay((df['Day']+\" \"+df['Month']+\" \"+df['Year']))\n",
        "  df['dayname']=x\n",
        "  df['IsWeekDay'] = weekday(df['dayname'])\n",
        "  df['Isleap']=leap(df['Year'])\n",
        "  \"\"\"df['max'] = max(df['Count'])\n",
        "  df['min'] = min(df['Count'])\n",
        "  df['avg'] = df['Count'].expanding(min_periods=2).mean()\n",
        "  df['std']=df['Count'].expanding(min_periods=2).std()\n",
        "  df['skew']=df['Count'].expanding(min_periods=2).skew()\n",
        "  #df['kurtosis']=df['Count'].expanding(min_periods=2).kurtosis()\n",
        "  df['variance']=df['Count'].expanding(min_periods=2).var()\n",
        "  df['std']=df['std'].replace(np.nan,-1)\n",
        "  df['avg']=df['avg'].replace(np.nan,-1)\n",
        "  df['skew']=df['skew'].replace(np.nan,-1)\n",
        "  df['variance']=df['variance'].replace(np.nan,-1)\"\"\"\n",
        "  df['Day'] = (df['Day']).astype(int)\n",
        "  df['Month'] = (df['Month']).astype(int)\n",
        "  df['Year'] = (df['Year']).astype(int)\n",
        "  df['hour'] = (df['hour']).astype(int)\n",
        "  df['minute'] = (df['minute']).astype(int)\n",
        "  return df"
      ],
      "execution_count": 0,
      "outputs": []
    },
    {
      "cell_type": "code",
      "metadata": {
        "id": "p_WCpi96yuRn",
        "colab_type": "code",
        "colab": {}
      },
      "source": [
        "dfy = preprocess(dft)"
      ],
      "execution_count": 0,
      "outputs": []
    },
    {
      "cell_type": "code",
      "metadata": {
        "id": "LUWAyr9vyuKh",
        "colab_type": "code",
        "colab": {
          "base_uri": "https://localhost:8080/",
          "height": 195
        },
        "outputId": "a9f5a79d-0f17-47b7-fb75-c59f8603c5d6"
      },
      "source": [
        "dfy.head()"
      ],
      "execution_count": 256,
      "outputs": [
        {
          "output_type": "execute_result",
          "data": {
            "text/html": [
              "<div>\n",
              "<style scoped>\n",
              "    .dataframe tbody tr th:only-of-type {\n",
              "        vertical-align: middle;\n",
              "    }\n",
              "\n",
              "    .dataframe tbody tr th {\n",
              "        vertical-align: top;\n",
              "    }\n",
              "\n",
              "    .dataframe thead th {\n",
              "        text-align: right;\n",
              "    }\n",
              "</style>\n",
              "<table border=\"1\" class=\"dataframe\">\n",
              "  <thead>\n",
              "    <tr style=\"text-align: right;\">\n",
              "      <th></th>\n",
              "      <th>Day</th>\n",
              "      <th>Month</th>\n",
              "      <th>Year</th>\n",
              "      <th>hour</th>\n",
              "      <th>minute</th>\n",
              "      <th>dayname</th>\n",
              "      <th>IsWeekDay</th>\n",
              "      <th>Isleap</th>\n",
              "      <th>max</th>\n",
              "      <th>min</th>\n",
              "      <th>avg</th>\n",
              "      <th>std</th>\n",
              "      <th>skew</th>\n",
              "      <th>kurtosis</th>\n",
              "      <th>variance</th>\n",
              "    </tr>\n",
              "  </thead>\n",
              "  <tbody>\n",
              "    <tr>\n",
              "      <th>0</th>\n",
              "      <td>26</td>\n",
              "      <td>9</td>\n",
              "      <td>2014</td>\n",
              "      <td>0</td>\n",
              "      <td>0</td>\n",
              "      <td>Friday</td>\n",
              "      <td>1</td>\n",
              "      <td>0</td>\n",
              "      <td>-14</td>\n",
              "      <td>12</td>\n",
              "      <td>-13</td>\n",
              "      <td>-5</td>\n",
              "      <td>-3</td>\n",
              "      <td>7</td>\n",
              "      <td>8</td>\n",
              "    </tr>\n",
              "    <tr>\n",
              "      <th>1</th>\n",
              "      <td>26</td>\n",
              "      <td>9</td>\n",
              "      <td>2014</td>\n",
              "      <td>1</td>\n",
              "      <td>0</td>\n",
              "      <td>Friday</td>\n",
              "      <td>1</td>\n",
              "      <td>0</td>\n",
              "      <td>-14</td>\n",
              "      <td>12</td>\n",
              "      <td>-13</td>\n",
              "      <td>-5</td>\n",
              "      <td>-3</td>\n",
              "      <td>7</td>\n",
              "      <td>8</td>\n",
              "    </tr>\n",
              "    <tr>\n",
              "      <th>2</th>\n",
              "      <td>26</td>\n",
              "      <td>9</td>\n",
              "      <td>2014</td>\n",
              "      <td>2</td>\n",
              "      <td>0</td>\n",
              "      <td>Friday</td>\n",
              "      <td>1</td>\n",
              "      <td>0</td>\n",
              "      <td>-14</td>\n",
              "      <td>12</td>\n",
              "      <td>-13</td>\n",
              "      <td>-5</td>\n",
              "      <td>-3</td>\n",
              "      <td>7</td>\n",
              "      <td>8</td>\n",
              "    </tr>\n",
              "    <tr>\n",
              "      <th>3</th>\n",
              "      <td>26</td>\n",
              "      <td>9</td>\n",
              "      <td>2014</td>\n",
              "      <td>3</td>\n",
              "      <td>0</td>\n",
              "      <td>Friday</td>\n",
              "      <td>1</td>\n",
              "      <td>0</td>\n",
              "      <td>-14</td>\n",
              "      <td>12</td>\n",
              "      <td>-13</td>\n",
              "      <td>-5</td>\n",
              "      <td>-3</td>\n",
              "      <td>7</td>\n",
              "      <td>8</td>\n",
              "    </tr>\n",
              "    <tr>\n",
              "      <th>4</th>\n",
              "      <td>26</td>\n",
              "      <td>9</td>\n",
              "      <td>2014</td>\n",
              "      <td>4</td>\n",
              "      <td>0</td>\n",
              "      <td>Friday</td>\n",
              "      <td>1</td>\n",
              "      <td>0</td>\n",
              "      <td>-14</td>\n",
              "      <td>12</td>\n",
              "      <td>-13</td>\n",
              "      <td>-5</td>\n",
              "      <td>-3</td>\n",
              "      <td>7</td>\n",
              "      <td>8</td>\n",
              "    </tr>\n",
              "  </tbody>\n",
              "</table>\n",
              "</div>"
            ],
            "text/plain": [
              "   Day  Month  Year  hour  minute dayname  IsWeekDay  Isleap  max  min  avg  \\\n",
              "0   26      9  2014     0       0  Friday          1       0  -14   12  -13   \n",
              "1   26      9  2014     1       0  Friday          1       0  -14   12  -13   \n",
              "2   26      9  2014     2       0  Friday          1       0  -14   12  -13   \n",
              "3   26      9  2014     3       0  Friday          1       0  -14   12  -13   \n",
              "4   26      9  2014     4       0  Friday          1       0  -14   12  -13   \n",
              "\n",
              "   std  skew  kurtosis  variance  \n",
              "0   -5    -3         7         8  \n",
              "1   -5    -3         7         8  \n",
              "2   -5    -3         7         8  \n",
              "3   -5    -3         7         8  \n",
              "4   -5    -3         7         8  "
            ]
          },
          "metadata": {
            "tags": []
          },
          "execution_count": 256
        }
      ]
    },
    {
      "cell_type": "code",
      "metadata": {
        "id": "Xy2q7wvwyuIA",
        "colab_type": "code",
        "colab": {
          "base_uri": "https://localhost:8080/",
          "height": 34
        },
        "outputId": "152b6a70-185b-4d6f-96a4-8a5c2e1e4b1a"
      },
      "source": [
        "X_train.shape"
      ],
      "execution_count": 229,
      "outputs": [
        {
          "output_type": "execute_result",
          "data": {
            "text/plain": [
              "(12252, 15)"
            ]
          },
          "metadata": {
            "tags": []
          },
          "execution_count": 229
        }
      ]
    },
    {
      "cell_type": "code",
      "metadata": {
        "id": "rK3OF3rZuYkI",
        "colab_type": "code",
        "colab": {
          "base_uri": "https://localhost:8080/",
          "height": 34
        },
        "outputId": "9962a04a-51bd-42d7-bec7-98ce08f6fefc"
      },
      "source": [
        "# Get missing columns in the training test\n",
        "missing_cols = set( X_train.columns ) - set( dfy.columns )\n",
        "# Add a missing column in test set with default value equal to 0\n",
        "for c in missing_cols:\n",
        "    dfy[c] = np.random.randint(-15,15)\n",
        "# Ensure the order of column in the test set is in the same order than in train set\n",
        "dfy = dfy[X_train.columns]\n",
        "dfy.shape"
      ],
      "execution_count": 255,
      "outputs": [
        {
          "output_type": "execute_result",
          "data": {
            "text/plain": [
              "(5112, 15)"
            ]
          },
          "metadata": {
            "tags": []
          },
          "execution_count": 255
        }
      ]
    },
    {
      "cell_type": "markdown",
      "metadata": {
        "id": "nfNxh2anuZKJ",
        "colab_type": "text"
      },
      "source": [
        "# ML\n"
      ]
    },
    {
      "cell_type": "code",
      "metadata": {
        "id": "DIXBYWNDujVV",
        "colab_type": "code",
        "colab": {}
      },
      "source": [
        ""
      ],
      "execution_count": 0,
      "outputs": []
    },
    {
      "cell_type": "code",
      "metadata": {
        "id": "e9K3z_chujZI",
        "colab_type": "code",
        "colab": {}
      },
      "source": [
        "y = df.Count\n",
        "X=df.drop('Count',axis=1)"
      ],
      "execution_count": 0,
      "outputs": []
    },
    {
      "cell_type": "code",
      "metadata": {
        "id": "4ORM0wRXuccA",
        "colab_type": "code",
        "colab": {}
      },
      "source": [
        "from sklearn.model_selection import train_test_split\n",
        "X_train, X_test, y_train, y_test = train_test_split(X,y, test_size=0.33, random_state=42)"
      ],
      "execution_count": 0,
      "outputs": []
    },
    {
      "cell_type": "code",
      "metadata": {
        "id": "Ld5xQ8LqvlYo",
        "colab_type": "code",
        "colab": {}
      },
      "source": [
        "X_test.isnull().sum()"
      ],
      "execution_count": 0,
      "outputs": []
    },
    {
      "cell_type": "code",
      "metadata": {
        "id": "DFzBbyj7wAqo",
        "colab_type": "code",
        "colab": {
          "base_uri": "https://localhost:8080/",
          "height": 286
        },
        "outputId": "5b95a2d8-baa4-48c9-cbbc-d8856e3aa1e4"
      },
      "source": [
        "df.dtypes"
      ],
      "execution_count": 202,
      "outputs": [
        {
          "output_type": "execute_result",
          "data": {
            "text/plain": [
              "Day            int64\n",
              "Month          int64\n",
              "Year           int64\n",
              "hour           int64\n",
              "minute         int64\n",
              "dayname       object\n",
              "IsWeekDay      int64\n",
              "Isleap         int64\n",
              "max            int64\n",
              "min            int64\n",
              "avg          float64\n",
              "std          float64\n",
              "skew         float64\n",
              "kurtosis     float64\n",
              "variance     float64\n",
              "dtype: object"
            ]
          },
          "metadata": {
            "tags": []
          },
          "execution_count": 202
        }
      ]
    },
    {
      "cell_type": "code",
      "metadata": {
        "id": "ZXBaLx7zvYpa",
        "colab_type": "code",
        "colab": {
          "base_uri": "https://localhost:8080/",
          "height": 34
        },
        "outputId": "21b86434-e2e5-4435-8afc-4ac8390e36dc"
      },
      "source": [
        "cat= np.array([5])\n",
        "cat"
      ],
      "execution_count": 209,
      "outputs": [
        {
          "output_type": "execute_result",
          "data": {
            "text/plain": [
              "array([5])"
            ]
          },
          "metadata": {
            "tags": []
          },
          "execution_count": 209
        }
      ]
    },
    {
      "cell_type": "code",
      "metadata": {
        "id": "gC-JBvXVuvMi",
        "colab_type": "code",
        "colab": {}
      },
      "source": [
        "#importing library and building model\n",
        "from catboost import CatBoostRegressor\n",
        "model=CatBoostRegressor(iterations=900, depth=3, learning_rate=0.1, loss_function='RMSE')\n",
        "model.fit(X_train, y_train,cat_features=cat,eval_set=(X_test, y_test),plot=True)\n",
        "y_pred = model.predict(X_test)\n",
        "from sklearn.metrics import mean_squared_error\n",
        "from math import sqrt\n",
        "rms = sqrt(mean_squared_error(y_test, y_pred))\n",
        "print(rms)"
      ],
      "execution_count": 0,
      "outputs": []
    },
    {
      "cell_type": "code",
      "metadata": {
        "id": "xW8Y1RSF45iD",
        "colab_type": "code",
        "colab": {
          "base_uri": "https://localhost:8080/",
          "height": 34
        },
        "outputId": "5d393117-dd1a-4d8a-90d0-6f9a8aba36de"
      },
      "source": [
        "rms"
      ],
      "execution_count": 259,
      "outputs": [
        {
          "output_type": "execute_result",
          "data": {
            "text/plain": [
              "26.197616024357565"
            ]
          },
          "metadata": {
            "tags": []
          },
          "execution_count": 259
        }
      ]
    },
    {
      "cell_type": "code",
      "metadata": {
        "id": "YQQXkLoc1jMD",
        "colab_type": "code",
        "colab": {}
      },
      "source": [
        "y_pred = model.predict(dfy)"
      ],
      "execution_count": 0,
      "outputs": []
    },
    {
      "cell_type": "code",
      "metadata": {
        "id": "OpWKynOO1miw",
        "colab_type": "code",
        "colab": {}
      },
      "source": [
        ""
      ],
      "execution_count": 0,
      "outputs": []
    },
    {
      "cell_type": "code",
      "metadata": {
        "id": "ew93QQ5Y1mlv",
        "colab_type": "code",
        "colab": {
          "base_uri": "https://localhost:8080/",
          "height": 195
        },
        "outputId": "b344a92a-aec3-4c93-d2ee-72b2fe47c349"
      },
      "source": [
        "sam = pd.read_csv('sample.csv')\n",
        "sam['Count']=y_pred\n",
        "sam['ID']=ID\n",
        "sam.head()"
      ],
      "execution_count": 261,
      "outputs": [
        {
          "output_type": "execute_result",
          "data": {
            "text/html": [
              "<div>\n",
              "<style scoped>\n",
              "    .dataframe tbody tr th:only-of-type {\n",
              "        vertical-align: middle;\n",
              "    }\n",
              "\n",
              "    .dataframe tbody tr th {\n",
              "        vertical-align: top;\n",
              "    }\n",
              "\n",
              "    .dataframe thead th {\n",
              "        text-align: right;\n",
              "    }\n",
              "</style>\n",
              "<table border=\"1\" class=\"dataframe\">\n",
              "  <thead>\n",
              "    <tr style=\"text-align: right;\">\n",
              "      <th></th>\n",
              "      <th>ID</th>\n",
              "      <th>Count</th>\n",
              "    </tr>\n",
              "  </thead>\n",
              "  <tbody>\n",
              "    <tr>\n",
              "      <th>0</th>\n",
              "      <td>18288</td>\n",
              "      <td>31.270266</td>\n",
              "    </tr>\n",
              "    <tr>\n",
              "      <th>1</th>\n",
              "      <td>18289</td>\n",
              "      <td>22.074542</td>\n",
              "    </tr>\n",
              "    <tr>\n",
              "      <th>2</th>\n",
              "      <td>18290</td>\n",
              "      <td>19.076277</td>\n",
              "    </tr>\n",
              "    <tr>\n",
              "      <th>3</th>\n",
              "      <td>18291</td>\n",
              "      <td>15.318096</td>\n",
              "    </tr>\n",
              "    <tr>\n",
              "      <th>4</th>\n",
              "      <td>18292</td>\n",
              "      <td>9.367606</td>\n",
              "    </tr>\n",
              "  </tbody>\n",
              "</table>\n",
              "</div>"
            ],
            "text/plain": [
              "      ID      Count\n",
              "0  18288  31.270266\n",
              "1  18289  22.074542\n",
              "2  18290  19.076277\n",
              "3  18291  15.318096\n",
              "4  18292   9.367606"
            ]
          },
          "metadata": {
            "tags": []
          },
          "execution_count": 261
        }
      ]
    },
    {
      "cell_type": "code",
      "metadata": {
        "id": "cu9y0pi12EdQ",
        "colab_type": "code",
        "colab": {}
      },
      "source": [
        "sam.to_csv('solnIRand.csv',index=False)"
      ],
      "execution_count": 0,
      "outputs": []
    },
    {
      "cell_type": "code",
      "metadata": {
        "id": "2LFhTNZX2OEf",
        "colab_type": "code",
        "colab": {}
      },
      "source": [
        ""
      ],
      "execution_count": 0,
      "outputs": []
    }
  ]
}